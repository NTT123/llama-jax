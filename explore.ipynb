{
 "cells": [
  {
   "cell_type": "code",
   "execution_count": 1,
   "metadata": {},
   "outputs": [],
   "source": [
    "import torch\n",
    "from torch_model import ModelArgs, Transformer\n",
    "from model import Transformer as JaxTransformer\n",
    "import pax\n",
    "from torch_model import precompute_freqs_cis as torch_precompute_freqs_cis\n",
    "from model import precompute_freqs_cis\n",
    "import numpy as np\n",
    "import jax\n",
    "from functools import partial"
   ]
  },
  {
   "cell_type": "code",
   "execution_count": 2,
   "metadata": {},
   "outputs": [],
   "source": [
    "model_args = ModelArgs(dim=512, n_layers=3, n_heads=4, vocab_size=16)\n",
    "net = Transformer(model_args)\n",
    "tokens = torch.randint(0, 16, (1, 5), generator=torch.Generator().manual_seed(40))\n",
    "target = net.forward(tokens, 0)[0, -1, :]"
   ]
  },
  {
   "cell_type": "code",
   "execution_count": 3,
   "metadata": {},
   "outputs": [],
   "source": [
    "a = torch_precompute_freqs_cis(10, 128).numpy()\n",
    "b = precompute_freqs_cis(10, 128)\n",
    "assert np.array_equal(a, b) == True"
   ]
  },
  {
   "cell_type": "code",
   "execution_count": 4,
   "metadata": {},
   "outputs": [],
   "source": [
    "@pax.pure\n",
    "def load_weight(jax_net):\n",
    "    state = net.state_dict()\n",
    "    for k in state.keys():\n",
    "        part = k.split(\".\")\n",
    "        assert part[-1] == \"weight\"\n",
    "        mod = part[0]\n",
    "        if mod == \"layers\":\n",
    "            index = int(part[1])\n",
    "            submod_name = part[2]\n",
    "            sub_mod = getattr(jax_net.layers[index], submod_name)\n",
    "            if submod_name in  [\"attention\", \"feed_forward\"]:\n",
    "                attr = part[3]\n",
    "                assert getattr(sub_mod, attr).weight.shape == state[k].shape\n",
    "                getattr(sub_mod, attr).weight = state[k].numpy()\n",
    "            else:\n",
    "                assert sub_mod.weight.shape == state[k].shape\n",
    "                sub_mod.weight = state[k].numpy()\n",
    "        else:\n",
    "            assert getattr(jax_net, mod).weight.shape == state[k].shape\n",
    "            getattr(jax_net, mod).weight = state[k].numpy()\n",
    "    return jax_net\n",
    "\n",
    "jax_net = load_weight(JaxTransformer(model_args))"
   ]
  },
  {
   "cell_type": "code",
   "execution_count": 5,
   "metadata": {},
   "outputs": [],
   "source": [
    "# @partial(jax.jit)\n",
    "def inference(net, tokens, pos):\n",
    "    net, output = pax.purecall(net, tokens, pos)\n",
    "    return net, output"
   ]
  },
  {
   "cell_type": "code",
   "execution_count": 6,
   "metadata": {},
   "outputs": [],
   "source": [
    "jax_net, output = inference(jax_net, tokens.numpy(), 0)"
   ]
  },
  {
   "cell_type": "code",
   "execution_count": 7,
   "metadata": {},
   "outputs": [],
   "source": [
    "logit = output[0, -1, :]"
   ]
  },
  {
   "cell_type": "code",
   "execution_count": 8,
   "metadata": {},
   "outputs": [
    {
     "data": {
      "text/plain": [
       "array([-0.7551486 ,  0.17903721, -0.20968904, -0.4628146 ,  0.7097525 ,\n",
       "       -1.4803946 , -0.5472836 ,  0.08360268,  0.8104697 , -0.545269  ,\n",
       "       -0.11844821,  0.10768881, -0.07461266, -0.5413903 ,  0.5620457 ,\n",
       "        0.3828546 ], dtype=float32)"
      ]
     },
     "execution_count": 8,
     "metadata": {},
     "output_type": "execute_result"
    }
   ],
   "source": [
    "target.numpy()"
   ]
  },
  {
   "cell_type": "code",
   "execution_count": 9,
   "metadata": {},
   "outputs": [
    {
     "data": {
      "text/plain": [
       "Array([-0.7551489 ,  0.17903697, -0.20968904, -0.4628147 ,  0.70975274,\n",
       "       -1.4803945 , -0.54728377,  0.08360252,  0.81046987, -0.545269  ,\n",
       "       -0.11844828,  0.10768889, -0.07461257, -0.5413905 ,  0.562046  ,\n",
       "        0.3828542 ], dtype=float32)"
      ]
     },
     "execution_count": 9,
     "metadata": {},
     "output_type": "execute_result"
    }
   ],
   "source": [
    "logit"
   ]
  },
  {
   "cell_type": "code",
   "execution_count": null,
   "metadata": {},
   "outputs": [],
   "source": []
  }
 ],
 "metadata": {
  "kernelspec": {
   "display_name": "Python 3",
   "language": "python",
   "name": "python3"
  },
  "language_info": {
   "codemirror_mode": {
    "name": "ipython",
    "version": 3
   },
   "file_extension": ".py",
   "mimetype": "text/x-python",
   "name": "python",
   "nbconvert_exporter": "python",
   "pygments_lexer": "ipython3",
   "version": "3.10.11"
  },
  "orig_nbformat": 4
 },
 "nbformat": 4,
 "nbformat_minor": 2
}
